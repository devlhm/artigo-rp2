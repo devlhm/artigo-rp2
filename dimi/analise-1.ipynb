{
 "cells": [
  {
   "cell_type": "markdown",
   "id": "c175649d",
   "metadata": {},
   "source": [
    "## Carregar bibliotecas e banco de dados"
   ]
  },
  {
   "cell_type": "code",
   "execution_count": 5,
   "id": "9370844f",
   "metadata": {},
   "outputs": [],
   "source": [
    "import pandas as pd\n",
    "import os\n",
    "import numpy as np"
   ]
  },
  {
   "cell_type": "code",
   "execution_count": 6,
   "id": "4c7c029c",
   "metadata": {},
   "outputs": [
    {
     "name": "stdout",
     "output_type": "stream",
     "text": [
      "path:  c:\\Users\\dimit\\projects\\artigo-rp2\\data.jsonl.gz\n"
     ]
    }
   ],
   "source": [
    "filename = \"data.jsonl.gz\"\n",
    "path = os.path.abspath(f\"../{filename}\")\n",
    "print(\"path: \", path)\n",
    "\n",
    "df = pd.read_json(path, lines=True)"
   ]
  },
  {
   "cell_type": "markdown",
   "id": "a17489cf",
   "metadata": {},
   "source": [
    "## Realizar limpeza dos dados"
   ]
  },
  {
   "cell_type": "code",
   "execution_count": 7,
   "id": "aca39e34",
   "metadata": {},
   "outputs": [
    {
     "data": {
      "text/plain": [
       "3        {'publication_reference': {'jurisdiction': 'BR...\n",
       "4        {'publication_reference': {'jurisdiction': 'BR...\n",
       "5        {'publication_reference': {'jurisdiction': 'BR...\n",
       "6        {'publication_reference': {'jurisdiction': 'BR...\n",
       "7        {'publication_reference': {'jurisdiction': 'BR...\n",
       "                               ...                        \n",
       "49994    {'publication_reference': {'jurisdiction': 'BR...\n",
       "49995    {'publication_reference': {'jurisdiction': 'BR...\n",
       "49997    {'publication_reference': {'jurisdiction': 'BR...\n",
       "49998    {'publication_reference': {'jurisdiction': 'BR...\n",
       "49999    {'publication_reference': {'jurisdiction': 'BR...\n",
       "Name: biblio, Length: 38630, dtype: object"
      ]
     },
     "metadata": {},
     "output_type": "display_data"
    }
   ],
   "source": [
    "sets_used = ['jurisdiction', 'kind', \n",
    "             'date_published', 'docdb_id', \n",
    "             'biblio', 'families', \n",
    "             'legal_status', 'abstract']\n",
    "\n",
    "# remoção de NAs\n",
    "filtered_df = df.dropna(subset=sets_used)\n",
    "\n",
    "display(filtered_df['biblio'].astype(str))\n",
    "\n",
    "# filtro por publicações brasileiras\n",
    "filtered_df = filtered_df[filtered_df['biblio'].astype(str).str.contains('BR')]\n",
    "filtered_df = filtered_df[filtered_df['jurisdiction'].astype(str).str.contains('BR')]\n"
   ]
  },
  {
   "cell_type": "markdown",
   "id": "62159d3c",
   "metadata": {},
   "source": [
    "## Extração de novos campos"
   ]
  },
  {
   "cell_type": "markdown",
   "id": "237e13af",
   "metadata": {},
   "source": [
    "### Texto do abstract"
   ]
  },
  {
   "cell_type": "code",
   "execution_count": 8,
   "id": "d326ff6d",
   "metadata": {},
   "outputs": [],
   "source": [
    "\n",
    "# extrai o campo 'text' do dicionário presente em cada linha da coluna 'abstract'\n",
    "filtered_df['abstract_text'] = filtered_df['abstract'].apply(lambda x: x[0]['text'] if isinstance(x, list) and len(x) > 0 and isinstance(x[0], dict) and 'text' in x[0] else None)"
   ]
  },
  {
   "cell_type": "markdown",
   "id": "c1f79148",
   "metadata": {},
   "source": [
    "### Classificações IPCR e CPC"
   ]
  },
  {
   "cell_type": "code",
   "execution_count": 9,
   "id": "9d693bf6",
   "metadata": {},
   "outputs": [],
   "source": [
    "# extrai triplas (symbol, value, position) de classificações IPCR e CPC\n",
    "def _triples_from_classifications_block(block):\n",
    "    if not isinstance(block, dict):\n",
    "        return []\n",
    "    cls = block.get('classifications') if 'classifications' in block else None\n",
    "    if not isinstance(cls, list):\n",
    "        return []\n",
    "    triples = []\n",
    "    for c in cls:\n",
    "        if not isinstance(c, dict):\n",
    "            continue\n",
    "        triples.append((c.get('symbol'), c.get('classification_value'), c.get('classification_symbol_position')))\n",
    "    return triples\n",
    "\n",
    "def extract_triples_from_biblio(biblio):\n",
    "    if not isinstance(biblio, dict):\n",
    "        return [], []\n",
    "    ipcr_block = biblio.get('classifications_ipcr') or biblio.get('classifications_ipcr', {})\n",
    "    cpc_block = biblio.get('classifications_cpc') or biblio.get('classifications_cpc', {})\n",
    "    ipcr_triples = _triples_from_classifications_block(ipcr_block)\n",
    "    cpc_triples = _triples_from_classifications_block(cpc_block)\n",
    "    return ipcr_triples, cpc_triples\n",
    "\n",
    "filtered_df[['ipcr_triples', 'cpc_triples']] = filtered_df['biblio'].apply(lambda b: pd.Series(extract_triples_from_biblio(b)))\n",
    "\n",
    "filtered_df['all_triples'] = filtered_df.apply(lambda r: (r['ipcr_triples'] or []) + (r['cpc_triples'] or []), axis=1)"
   ]
  },
  {
   "cell_type": "markdown",
   "id": "62de5fee",
   "metadata": {},
   "source": [
    "### Inventors"
   ]
  },
  {
   "cell_type": "code",
   "execution_count": 10,
   "id": "0c7b10d7",
   "metadata": {},
   "outputs": [],
   "source": [
    "def extract_inventors_from_biblio(biblio):\n",
    "    \"\"\"Return (detailed_list, names_list) where detailed_list is list of {'residence': ..., 'name': ...} and names_list is list of names.\"\"\"\n",
    "    if not isinstance(biblio, dict):\n",
    "        return [], []\n",
    "    parties = biblio.get('parties') if 'parties' in biblio else {}\n",
    "    if not isinstance(parties, dict):\n",
    "        return [], []\n",
    "    invs = parties.get('inventors')\n",
    "    if not isinstance(invs, list):\n",
    "        return [], []\n",
    "    detailed = []\n",
    "    names = []\n",
    "    for inv in invs:\n",
    "        if not isinstance(inv, dict):\n",
    "            continue\n",
    "        residence = inv.get('residence')\n",
    "        name = None\n",
    "        if isinstance(inv.get('extracted_name'), dict):\n",
    "            name = inv['extracted_name'].get('value')\n",
    "        if not name:\n",
    "            name = inv.get('name') or (inv.get('extracted') if isinstance(inv.get('extracted'), str) else None)\n",
    "        detailed.append({'residence': residence, 'name': name})\n",
    "        if name:\n",
    "            names.append(name)\n",
    "    return detailed, names\n",
    "\n",
    "filtered_df[['inventors_detailed','inventor_names']] = filtered_df['biblio'].apply(lambda b: pd.Series(extract_inventors_from_biblio(b)))\n",
    "\n",
    "# --- new: extract invention title and owners ---\n",
    "def extract_invention_title(biblio):\n",
    "    \"\"\"Return the invention title text (first entry) or None\"\"\"\n",
    "    if not isinstance(biblio, dict):\n",
    "        return None\n",
    "    it = biblio.get('invention_title')\n",
    "    if isinstance(it, list) and len(it) > 0:\n",
    "        first = it[0]\n",
    "        if isinstance(first, dict):\n",
    "            return first.get('text') or first.get('value')\n",
    "        if isinstance(first, str):\n",
    "            return first\n",
    "    return None\n",
    "\n",
    "filtered_df['invention_title_text'] = filtered_df['biblio'].apply(extract_invention_title)"
   ]
  },
  {
   "cell_type": "markdown",
   "id": "9ffb461b",
   "metadata": {},
   "source": [
    "### Patentes cited by"
   ]
  },
  {
   "cell_type": "code",
   "execution_count": 11,
   "id": "7ebcc87d",
   "metadata": {},
   "outputs": [
    {
     "data": {
      "text/html": [
       "<div>\n",
       "<style scoped>\n",
       "    .dataframe tbody tr th:only-of-type {\n",
       "        vertical-align: middle;\n",
       "    }\n",
       "\n",
       "    .dataframe tbody tr th {\n",
       "        vertical-align: top;\n",
       "    }\n",
       "\n",
       "    .dataframe thead th {\n",
       "        text-align: right;\n",
       "    }\n",
       "</style>\n",
       "<table border=\"1\" class=\"dataframe\">\n",
       "  <thead>\n",
       "    <tr style=\"text-align: right;\">\n",
       "      <th></th>\n",
       "      <th>docdb_id</th>\n",
       "      <th>patent_count</th>\n",
       "      <th>patent_lens_ids</th>\n",
       "    </tr>\n",
       "  </thead>\n",
       "  <tbody>\n",
       "    <tr>\n",
       "      <th>2248</th>\n",
       "      <td>410568163</td>\n",
       "      <td>7</td>\n",
       "      <td>[009-112-160-556-731, 126-749-947-864-359, 022...</td>\n",
       "    </tr>\n",
       "    <tr>\n",
       "      <th>10065</th>\n",
       "      <td>279427515</td>\n",
       "      <td>10</td>\n",
       "      <td>[088-469-350-389-118, 066-068-825-399-403, 083...</td>\n",
       "    </tr>\n",
       "    <tr>\n",
       "      <th>10067</th>\n",
       "      <td>451354979</td>\n",
       "      <td>8</td>\n",
       "      <td>[030-613-929-122-614, 054-771-746-098-337, 108...</td>\n",
       "    </tr>\n",
       "    <tr>\n",
       "      <th>10082</th>\n",
       "      <td>522818179</td>\n",
       "      <td>26</td>\n",
       "      <td>[064-856-910-155-483, 116-462-036-170-646, 064...</td>\n",
       "    </tr>\n",
       "    <tr>\n",
       "      <th>14389</th>\n",
       "      <td>449883948</td>\n",
       "      <td>15</td>\n",
       "      <td>[043-472-868-631-815, 090-067-059-203-736, 061...</td>\n",
       "    </tr>\n",
       "  </tbody>\n",
       "</table>\n",
       "</div>"
      ],
      "text/plain": [
       "        docdb_id  patent_count  \\\n",
       "2248   410568163             7   \n",
       "10065  279427515            10   \n",
       "10067  451354979             8   \n",
       "10082  522818179            26   \n",
       "14389  449883948            15   \n",
       "\n",
       "                                         patent_lens_ids  \n",
       "2248   [009-112-160-556-731, 126-749-947-864-359, 022...  \n",
       "10065  [088-469-350-389-118, 066-068-825-399-403, 083...  \n",
       "10067  [030-613-929-122-614, 054-771-746-098-337, 108...  \n",
       "10082  [064-856-910-155-483, 116-462-036-170-646, 064...  \n",
       "14389  [043-472-868-631-815, 090-067-059-203-736, 061...  "
      ]
     },
     "execution_count": 11,
     "metadata": {},
     "output_type": "execute_result"
    }
   ],
   "source": [
    "# Extrai patent_count e lens_ids de filtered_df['biblio']\n",
    "def extract_patents_info(biblio):\n",
    "    if not isinstance(biblio, dict):\n",
    "        return 0, []\n",
    "    cb = biblio.get('cited_by') or {}\n",
    "    # padrão esperado: {'patents': [...], 'patent_count': N}\n",
    "    patents = []\n",
    "    count = 0\n",
    "    if isinstance(cb, dict):\n",
    "        if isinstance(cb.get('patents'), list):\n",
    "            patents = cb.get('patents')\n",
    "            count = cb.get('patent_count', len(patents))\n",
    "        elif isinstance(cb.get('patents'), dict):\n",
    "            patents = list(cb.get('patents').values())\n",
    "            count = cb.get('patent_count', len(patents))\n",
    "        else:\n",
    "            # talvez cb itself seja a lista de patents ou um mapeamento\n",
    "            if isinstance(cb.get('patents'), list):\n",
    "                patents = cb.get('patents')\n",
    "                count = len(patents)\n",
    "            else:\n",
    "                # fallback: count only\n",
    "                count = cb.get('patent_count', 0)\n",
    "                patents = []\n",
    "    elif isinstance(cb, list):\n",
    "        patents = cb\n",
    "        count = len(patents)\n",
    "    else:\n",
    "        count = 0\n",
    "\n",
    "    lens_ids = []\n",
    "    for p in patents:\n",
    "        if not isinstance(p, dict):\n",
    "            continue\n",
    "        # lens_id frequentemente na raiz do registro de patente\n",
    "        lid = p.get('lens_id') or (p.get('document_id', {}) or {}).get('lens_id')\n",
    "        # às vezes lens_id pode estar como 'lens id' ou similar - tratar básico\n",
    "        if not lid:\n",
    "            lid = p.get('lens id') or p.get('lens')\n",
    "        if lid:\n",
    "            lens_ids.append(lid)\n",
    "    return count, lens_ids\n",
    "\n",
    "# aplicar ao DataFrame\n",
    "filtered_df[['patent_count','patent_lens_ids']] = filtered_df['biblio'].apply(lambda b: pd.Series(extract_patents_info(b)))\n",
    "\n",
    "filtered_df = filtered_df.reset_index(drop=True)\n",
    "\n",
    "# visualização rápida\n",
    "filtered_df[filtered_df['patent_count'] > 6][['docdb_id','patent_count','patent_lens_ids']].head()"
   ]
  },
  {
   "cell_type": "markdown",
   "id": "ea722ac5",
   "metadata": {},
   "source": [
    "### Informações de status e expiração"
   ]
  },
  {
   "cell_type": "code",
   "execution_count": 12,
   "id": "1d7dd1e1",
   "metadata": {},
   "outputs": [
    {
     "data": {
      "text/html": [
       "<div>\n",
       "<style scoped>\n",
       "    .dataframe tbody tr th:only-of-type {\n",
       "        vertical-align: middle;\n",
       "    }\n",
       "\n",
       "    .dataframe tbody tr th {\n",
       "        vertical-align: top;\n",
       "    }\n",
       "\n",
       "    .dataframe thead th {\n",
       "        text-align: right;\n",
       "    }\n",
       "</style>\n",
       "<table border=\"1\" class=\"dataframe\">\n",
       "  <thead>\n",
       "    <tr style=\"text-align: right;\">\n",
       "      <th></th>\n",
       "      <th>docdb_id</th>\n",
       "      <th>patent_status</th>\n",
       "      <th>application_expiry_date</th>\n",
       "    </tr>\n",
       "  </thead>\n",
       "  <tbody>\n",
       "    <tr>\n",
       "      <th>0</th>\n",
       "      <td>558602417</td>\n",
       "      <td>PENDING</td>\n",
       "      <td>None</td>\n",
       "    </tr>\n",
       "    <tr>\n",
       "      <th>1</th>\n",
       "      <td>383346957</td>\n",
       "      <td>DISCONTINUED</td>\n",
       "      <td>2013-09-03</td>\n",
       "    </tr>\n",
       "    <tr>\n",
       "      <th>2</th>\n",
       "      <td>383323608</td>\n",
       "      <td>DISCONTINUED</td>\n",
       "      <td>2011-07-26</td>\n",
       "    </tr>\n",
       "    <tr>\n",
       "      <th>3</th>\n",
       "      <td>569902860</td>\n",
       "      <td>ACTIVE</td>\n",
       "      <td>None</td>\n",
       "    </tr>\n",
       "    <tr>\n",
       "      <th>4</th>\n",
       "      <td>586397134</td>\n",
       "      <td>DISCONTINUED</td>\n",
       "      <td>2024-09-10</td>\n",
       "    </tr>\n",
       "  </tbody>\n",
       "</table>\n",
       "</div>"
      ],
      "text/plain": [
       "    docdb_id patent_status application_expiry_date\n",
       "0  558602417       PENDING                    None\n",
       "1  383346957  DISCONTINUED              2013-09-03\n",
       "2  383323608  DISCONTINUED              2011-07-26\n",
       "3  569902860        ACTIVE                    None\n",
       "4  586397134  DISCONTINUED              2024-09-10"
      ]
     },
     "execution_count": 12,
     "metadata": {},
     "output_type": "execute_result"
    }
   ],
   "source": [
    "import ast\n",
    "\n",
    "# extrai patent_status e application_expiry_date da coluna 'legal_status'\n",
    "def extract_legal_status_info(legal_status):\n",
    "    if legal_status is None:\n",
    "        return None, None\n",
    "    # já é dict\n",
    "    if isinstance(legal_status, dict):\n",
    "        return legal_status.get('patent_status'), legal_status.get('application_expiry_date')\n",
    "    # se for string, tentar avaliar\n",
    "    if isinstance(legal_status, str):\n",
    "        try:\n",
    "            obj = ast.literal_eval(legal_status)\n",
    "            if isinstance(obj, dict):\n",
    "                return obj.get('patent_status'), obj.get('application_expiry_date')\n",
    "        except Exception:\n",
    "            # não foi possível interpretar\n",
    "            return None, None\n",
    "    return None, None\n",
    "\n",
    "# aplicar e criar novas colunas\n",
    "filtered_df[['patent_status','application_expiry_date']] = filtered_df['legal_status'].apply(lambda x: pd.Series(extract_legal_status_info(x)))\n",
    "\n",
    "# quick check\n",
    "filtered_df[['docdb_id','patent_status','application_expiry_date']].head()"
   ]
  },
  {
   "cell_type": "markdown",
   "id": "f3642274",
   "metadata": {},
   "source": [
    "## Análise Inicial"
   ]
  },
  {
   "cell_type": "code",
   "execution_count": 13,
   "id": "557300cc",
   "metadata": {},
   "outputs": [
    {
     "data": {
      "text/plain": [
       "Index(['lens_id', 'jurisdiction', 'doc_number', 'kind', 'date_published',\n",
       "       'doc_key', 'docdb_id', 'lang', 'biblio', 'families', 'legal_status',\n",
       "       'publication_type', 'abstract', 'abstract_text', 'ipcr_triples',\n",
       "       'cpc_triples', 'all_triples', 'inventors_detailed', 'inventor_names',\n",
       "       'invention_title_text', 'patent_count', 'patent_lens_ids',\n",
       "       'patent_status', 'application_expiry_date'],\n",
       "      dtype='object')"
      ]
     },
     "metadata": {},
     "output_type": "display_data"
    }
   ],
   "source": [
    "display(filtered_df.columns)"
   ]
  }
 ],
 "metadata": {
  "kernelspec": {
   "display_name": "Python 3",
   "language": "python",
   "name": "python3"
  },
  "language_info": {
   "codemirror_mode": {
    "name": "ipython",
    "version": 3
   },
   "file_extension": ".py",
   "mimetype": "text/x-python",
   "name": "python",
   "nbconvert_exporter": "python",
   "pygments_lexer": "ipython3",
   "version": "3.13.7"
  }
 },
 "nbformat": 4,
 "nbformat_minor": 5
}
